{
 "cells": [
  {
   "cell_type": "markdown",
   "metadata": {},
   "source": [
    "# LeetCode Problems Winter 2022\n",
    "---"
   ]
  },
  {
   "cell_type": "markdown",
   "metadata": {},
   "source": [
    "### #1\n",
    "Given an array of integers nums and an integer target, return indices of the two numbers such that they add up to target.\n",
    "\n",
    "You may assume that each input would have exactly one solution, and you may not use the same element twice.\n",
    "\n",
    "**_Solved_** in ~15 min [Easy]"
   ]
  },
  {
   "cell_type": "code",
   "execution_count": 15,
   "metadata": {},
   "outputs": [
    {
     "name": "stdout",
     "output_type": "stream",
     "text": [
      "0 4\n",
      "1 2\n"
     ]
    }
   ],
   "source": [
    "nums = [3,2,4,5,3] \n",
    "target = 6\n",
    "\n",
    "for iidx, i in enumerate(nums):\n",
    "    for jidx, j in enumerate(nums[iidx+1::]):\n",
    "        if i+j == target:\n",
    "            print(iidx, jidx+iidx+1)\n"
   ]
  },
  {
   "cell_type": "markdown",
   "metadata": {},
   "source": [
    "### #2"
   ]
  },
  {
   "cell_type": "markdown",
   "metadata": {},
   "source": [
    "You are given two non-empty linked lists representing two non-negative integers. The digits are stored in reverse order, and each of their nodes contains a single digit. Add the two numbers and return the sum as a linked list.\n",
    "\n",
    "You may assume the two numbers do not contain any leading zero, except the number 0 itself.\n",
    "\n",
    "Example:\n",
    "\n",
    "L1 = [2, 4, 3]<br/>\n",
    "L2 = [5, 6, 4]<br/>\n",
    "Out: [7, 0, 8]<br/>\n",
    "Explanation: 342 + 465 = 807\n",
    "\n"
   ]
  },
  {
   "cell_type": "code",
   "execution_count": 1,
   "metadata": {},
   "outputs": [
    {
     "ename": "SyntaxError",
     "evalue": "invalid syntax (492013114.py, line 48)",
     "output_type": "error",
     "traceback": [
      "\u001b[1;36m  Input \u001b[1;32mIn [1]\u001b[1;36m\u001b[0m\n\u001b[1;33m    <svg id=\"svg\" xmlns=\"http://www.w3.org/2000/svg\" viewBox=\"-10 -10 20 20\" height=\"20\"></svg>\u001b[0m\n\u001b[1;37m    ^\u001b[0m\n\u001b[1;31mSyntaxError\u001b[0m\u001b[1;31m:\u001b[0m invalid syntax\n"
     ]
    }
   ],
   "source": [
    "# Definition for singly-linked list.\n",
    "class ListNode:\n",
    "    def __init__(self, val=0, next=None):\n",
    "        self.val = val\n",
    "        self.next = next\n",
    "    def set(self, val: int, next: ListNode):\n",
    "        self.val = val\n",
    "        self.next = next\n",
    "\n",
    "\n",
    "# case\n",
    "l1 = ListNode(2, ListNode(4, ListNode(3, None)))\n",
    "l2 = ListNode(5, ListNode(6, ListNode(4, None)))\n",
    "expected = ListNode(7, ListNode(0, ListNode(8, None)))\n",
    "\n",
    "# Solution\n",
    "def addTwoNumbers(l1:ListNode, l2: ListNode) -> ListNode:\n",
    "    res = ListNode()\n",
    "    # refs\n",
    "    n1 = l1\n",
    "    n2 = l2\n",
    "    carry = False\n",
    "    current_node = res\n",
    "    while n1 != None:\n",
    "        digit_sum = n1.val + n2.val\n",
    "        if digit_sum - 10 < 0 and carry:\n",
    "            current_node.set(digit_sum + 1, ListNode())\n",
    "            carry = False\n",
    "        elif digit_sum - 10 < 0 and not carry:\n",
    "            current_node.set(digit_sum, ListNode())\n",
    "            carry = False\n",
    "        elif digit_sum - 10 >= 0 and carry:\n",
    "            current_node.set(digit_sum - 9, ListNode())\n",
    "            carry = True\n",
    "        else:\n",
    "            current_node.set(digit_sum - 10, ListNode())\n",
    "            carry = True\n",
    "\n",
    "        current_node = res.next\n",
    "        n1 = n1.next\n",
    "        n2 = n2.next\n",
    " \n",
    "    return res\n",
    "\n",
    "x = addTwoNumbers(l1,l2)\n",
    "\n",
    "\n",
    "<svg id=\"svg\" xmlns=\"http://www.w3.org/2000/svg\" viewBox=\"-10 -10 20 20\" height=\"20\"></svg>\n"
   ]
  }
 ],
 "metadata": {
  "kernelspec": {
   "display_name": "Python 3.10.8 64-bit (microsoft store)",
   "language": "python",
   "name": "python3"
  },
  "language_info": {
   "codemirror_mode": {
    "name": "ipython",
    "version": 3
   },
   "file_extension": ".py",
   "mimetype": "text/x-python",
   "name": "python",
   "nbconvert_exporter": "python",
   "pygments_lexer": "ipython3",
   "version": "3.10.9 (tags/v3.10.9:1dd9be6, Dec  6 2022, 20:01:21) [MSC v.1934 64 bit (AMD64)]"
  },
  "orig_nbformat": 4,
  "vscode": {
   "interpreter": {
    "hash": "5896eaaea9cfda5f2dfd8f6cd191f6f35a93afed143d79e2a6afd278becd1866"
   }
  }
 },
 "nbformat": 4,
 "nbformat_minor": 2
}
