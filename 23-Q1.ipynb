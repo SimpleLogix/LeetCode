{
 "cells": [
  {
   "attachments": {},
   "cell_type": "markdown",
   "metadata": {},
   "source": [
    "# LeetCode Problems Q1 2023\n",
    "---"
   ]
  },
  {
   "attachments": {},
   "cell_type": "markdown",
   "metadata": {},
   "source": [
    "### #93 Restore IP Addresses\n",
    "\n",
    "A valid IP address consists of exactly four integers separated by single dots. Each integer is between 0 and 255 (inclusive) and cannot have leading zeros.\n",
    "\n",
    "    For example, \"0.1.2.201\" and \"192.168.1.1\" are valid IP addresses, but \"0.011.255.245\", \"192.168.1.312\" and \"192.168@1.1\" are invalid IP addresses.\n",
    "\n",
    "Given a string s containing only digits, return all possible valid IP addresses that can be formed by inserting dots into s. You are not allowed to reorder or remove any digits in s. You may return the valid IP addresses in any order.\n",
    "\n",
    "**Constraints:**\n",
    "\n",
    "    1 <= s.length <= 20\n",
    "    s consists of digits only.\n"
   ]
  },
  {
   "cell_type": "code",
   "execution_count": 101,
   "metadata": {},
   "outputs": [],
   "source": [
    "import re\n",
    "def restoreIpAddresses(s: str) -> list[str]:\n",
    "\n",
    "    result = []\n",
    "    \n",
    "    if len(s) < 4 or len(s) > 12:\n",
    "        return []\n",
    "\n",
    "    if not s.isdigit():\n",
    "        return []\n",
    "\n",
    "    # find all permutations of inserting 3 dots to create IP Addr\n",
    "    x = list(s)\n",
    "    permutations = []\n",
    "    for ind1 in range(len(x)-2): \n",
    "        for ind2 in range(ind1+1,len(x)-1): \n",
    "            for ind3 in range(ind2+1,len(x)):\n",
    "                x = list(s)\n",
    "                x.insert(ind1+1,'.')\n",
    "                x.insert(ind2+2,'.')\n",
    "                x.insert(ind3+3,'.')\n",
    "                if x[-1]!='.':\n",
    "                    permutations.append(\"\".join(x))\n",
    "\n",
    "    # Go through result and remove IP Addr that are invalid\n",
    "    # IPv4 regex that was changed to remove the leading zeros from the address as a solution req.\n",
    "    ip_regex = re.compile(\"^((?:[1-9]|[1-9][0-9]|1[0-9][0-9]|2[0-4][0-9]|25[0-5]|[0])\\.){3}(?:[1-9]|[1-9][0-9]|1[0-9][0-9]|2[0-4][0-9]|25[0-5]|[0])$\")\n",
    "    for res in permutations:\n",
    "        if re.match(ip_regex, res):\n",
    "            result.append(res)\n",
    "\n",
    "    return result"
   ]
  },
  {
   "cell_type": "code",
   "execution_count": 102,
   "metadata": {},
   "outputs": [
    {
     "name": "stdout",
     "output_type": "stream",
     "text": [
      "['1.0.10.23', '1.0.102.3', '10.1.0.23', '10.10.2.3', '101.0.2.3']\n"
     ]
    }
   ],
   "source": [
    "ip = \"101023\"\n",
    "res = restoreIpAddresses(s=ip)\n",
    "\n",
    "print(res)"
   ]
  },
  {
   "attachments": {},
   "cell_type": "markdown",
   "metadata": {},
   "source": [
    "### #997 Find the Town Judge\n",
    "\n",
    "In a town, there are n people labeled from 1 to n. There is a rumor that one of these people is secretly the town judge.\n",
    "\n",
    "If the town judge exists, then:\n",
    "\n",
    "    The town judge trusts nobody.\n",
    "    Everybody (except for the town judge) trusts the town judge.\n",
    "    There is exactly one person that satisfies properties 1 and 2.\n",
    "\n",
    "You are given an array trust where trust[i] = [ai, bi] representing that the person labeled ai trusts the person labeled bi.\n",
    "\n",
    "Return the label of the town judge if the town judge exists and can be identified, or return -1 otherwise."
   ]
  },
  {
   "cell_type": "code",
   "execution_count": 72,
   "metadata": {},
   "outputs": [
    {
     "data": {
      "text/plain": [
       "-1"
      ]
     },
     "execution_count": 72,
     "metadata": {},
     "output_type": "execute_result"
    }
   ],
   "source": [
    "town = [[1,3],[1,4],[2,3]]\n",
    "\n",
    "findJudge(town, 4)\n"
   ]
  },
  {
   "cell_type": "code",
   "execution_count": 71,
   "metadata": {},
   "outputs": [],
   "source": [
    "def findJudge(trust, n):\n",
    "    if len(trust) == 0:\n",
    "        if n == 1:\n",
    "            return 1\n",
    "        else:\n",
    "            return -1 # SO CONFUSED LEETCODE INCONSITENTY...\n",
    "\n",
    "    # create a dictionary of relationships\n",
    "    town_dict = {}\n",
    "    for person in trust:\n",
    "        town_dict.setdefault(person[0], []).append(person[1])\n",
    "\n",
    "    \n",
    "    # find the most common \n",
    "    trusts = []\n",
    "    for relationship in town_dict:\n",
    "        trusts.append(town_dict[relationship])\n",
    "    judge_set = set(trusts[0]).intersection(*trusts[1:])\n",
    "\n",
    "\n",
    "    # if there are no judges or more than 1\n",
    "    if len(judge_set) != 1:\n",
    "        return -1\n",
    "    else:\n",
    "        for i in range(1,n+1):\n",
    "            if i not in town_dict:\n",
    "                town_dict[i] = []\n",
    "        judge = judge_set.pop()\n",
    "        # check that everybody trusts the judge\n",
    "        for person in town_dict:\n",
    "            if person != judge: # judge doesn't trust themselves, dont check \n",
    "                if judge not in town_dict[person]: # if the judge is not in the person's trust list\n",
    "                    return -1\n",
    "        \n",
    "        return judge\n"
   ]
  }
 ],
 "metadata": {
  "kernelspec": {
   "display_name": "Python 3",
   "language": "python",
   "name": "python3"
  },
  "language_info": {
   "codemirror_mode": {
    "name": "ipython",
    "version": 3
   },
   "file_extension": ".py",
   "mimetype": "text/x-python",
   "name": "python",
   "nbconvert_exporter": "python",
   "pygments_lexer": "ipython3",
   "version": "3.10.9"
  },
  "orig_nbformat": 4,
  "vscode": {
   "interpreter": {
    "hash": "5896eaaea9cfda5f2dfd8f6cd191f6f35a93afed143d79e2a6afd278becd1866"
   }
  }
 },
 "nbformat": 4,
 "nbformat_minor": 2
}
